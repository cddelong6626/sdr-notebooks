{
 "cells": [
  {
   "cell_type": "code",
   "execution_count": 1,
   "id": "ec91fbc5",
   "metadata": {},
   "outputs": [
    {
     "ename": "AttributeError",
     "evalue": "module 'py_utils' has no attribute 'framing'",
     "output_type": "error",
     "traceback": [
      "\u001b[31m---------------------------------------------------------------------------\u001b[39m",
      "\u001b[31mAttributeError\u001b[39m                            Traceback (most recent call last)",
      "\u001b[36mCell\u001b[39m\u001b[36m \u001b[39m\u001b[32mIn[1]\u001b[39m\u001b[32m, line 13\u001b[39m\n\u001b[32m     10\u001b[39m \u001b[38;5;66;03m# np.random.seed(0)\u001b[39;00m\n\u001b[32m     12\u001b[39m \u001b[33;03m\"\"\"Generate Frames\"\"\"\u001b[39;00m\n\u001b[32m---> \u001b[39m\u001b[32m13\u001b[39m preamble = pu.framing.zadoff_chu(\u001b[32m31\u001b[39m)\n\u001b[32m     14\u001b[39m preamble = pu.modulation.modulate_qpsk(pu.framing.pn(\u001b[32m31\u001b[39m*\u001b[32m2\u001b[39m))\n\u001b[32m     15\u001b[39m payload = pu.modulation.modulate_qpsk(np.random.randint(\u001b[32m2\u001b[39m, size=\u001b[32m10\u001b[39m))\n",
      "\u001b[31mAttributeError\u001b[39m: module 'py_utils' has no attribute 'framing'"
     ]
    }
   ],
   "source": [
    "import sys\n",
    "sys.path.insert(0, '..')\n",
    "\n",
    "from scipy import signal\n",
    "import numpy as np\n",
    "\n",
    "import py_utils as pu\n",
    "from py_utils import visualization as vz\n",
    "\n",
    "# np.random.seed(0)\n",
    "\n",
    "\"\"\"Generate Frames\"\"\"\n",
    "preamble = pu.framing.zadoff_chu(31)\n",
    "preamble = pu.modulation.modulate_qpsk(pu.framing.pn(31*2))\n",
    "payload = pu.modulation.modulate_qpsk(np.random.randint(2, size=10))\n",
    "len_payload = 5\n",
    "frames = pu.framing.to_frames(preamble, payload, len_payload)\n",
    "\n",
    "\"\"\"Apply channel\"\"\"\n",
    "sig = np.concatenate((np.zeros(10), frames[0], np.zeros(100)))\n",
    "# sig = pu.channel.apply_fto(frames, 200)\n",
    "# sig = pu.channel.apply_awgn(sig, 10)\n",
    "# sig = pu.channel.apply_sto(sig, 0.2)\n",
    "pct = 0.041\n",
    "w_off = pct * 2 * np.pi / 100\n",
    "sig = pu.channel.apply_cfo(sig, w_offset=w_off)\n",
    "\n",
    "\"\"\"Run frame detector\"\"\"\n",
    "t = 0.6  # threshold\n",
    "fd = pu.framing.AcquisitionFrameDetector(preamble, len(preamble), t)\n",
    "res = fd.process(sig)[0]\n",
    "first_detected_frame = res.frame\n",
    "vz.plot_signal(first_detected_frame, sig[10:10 + len(preamble)])\n",
    "print(f\"Real: {w_off}\\nDetector: {res.cfo}\")\n",
    "print(f\"CFO vector: {fd.cfo_vector}\")\n",
    "\n",
    "\"\"\"Plot results\"\"\"\n",
    "# t_vec = t * np.ones_like(sig)\n",
    "# vz.plot_signal(cfd.debug[0], sig*0.3, t_vec, n_samps=len(sig))\n",
    "# vz.plot_signal(cfd.debug[1], cfd.debug[2])\n",
    "\n",
    "# pdcc = pu.framing.PhaseDriftCFOCorrector(preamble, detection_threshold=t, detector_cls=pu.framing.AcquisitionFrameDetector)\n",
    "# pdcc.process(sig)\n",
    "# print(pdcc.get_estimate()/(2*np.pi))\n",
    "# vz.plot_signal(pdcc.debug[0], preamble)"
   ]
  }
 ],
 "metadata": {
  "kernelspec": {
   "display_name": "dsp",
   "language": "python",
   "name": "python3"
  },
  "language_info": {
   "codemirror_mode": {
    "name": "ipython",
    "version": 3
   },
   "file_extension": ".py",
   "mimetype": "text/x-python",
   "name": "python",
   "nbconvert_exporter": "python",
   "pygments_lexer": "ipython3",
   "version": "3.11.13"
  }
 },
 "nbformat": 4,
 "nbformat_minor": 5
}
