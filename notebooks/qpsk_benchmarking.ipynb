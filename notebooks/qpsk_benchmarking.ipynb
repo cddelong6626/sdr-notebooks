{
 "cells": [
  {
   "cell_type": "markdown",
   "id": "479b4142",
   "metadata": {},
   "source": [
    "# QPSK Benchmarking\n",
    "\n",
    "This notebook benchmarks the BER/SNR, BER/CFO, and BER/STO of a QPSK communication chain.\n",
    "\n",
    "## Algorithm\n",
    "1. Generate transmit signal\n",
    "2. Define reception function\n",
    "3. Individually scan over SNR, CFO, and STO, measuring BER\n",
    "4. Plot results\n",
    "\n",
    "Author: Cole Delong"
   ]
  },
  {
   "cell_type": "markdown",
   "id": "324be5aa",
   "metadata": {},
   "source": [
    "### Imports and Constants"
   ]
  },
  {
   "cell_type": "code",
   "execution_count": 6,
   "id": "5a72e2eb",
   "metadata": {},
   "outputs": [],
   "source": [
    "%reload_ext autoreload\n",
    "%autoreload 2\n",
    "\n",
    "import py_utils as pu\n",
    "import py_utils.visualization as vz\n",
    "import numpy as np\n",
    "\n",
    "N_BITS = 10**5"
   ]
  },
  {
   "cell_type": "markdown",
   "id": "19288b7b",
   "metadata": {},
   "source": [
    "### Transmit chain"
   ]
  },
  {
   "cell_type": "code",
   "execution_count": 2,
   "id": "00f80f9b",
   "metadata": {},
   "outputs": [],
   "source": [
    "bits_tx = np.random.randint(2, size=N_BITS)\n",
    "sym_tx = pu.coding.diff_encode_psk_symbols(pu.modulation.modulate_qpsk(bits_tx))\n",
    "\n",
    "\n",
    "SPS = 2\n",
    "N_RRC_TAPS = SPS*10 + 1\n",
    "sig_tx = pu.dsp.upsample(sym_tx, SPS)\n",
    "sig_tx = pu.dsp.rrc_filter(sig_tx, N_RRC_TAPS, SPS)"
   ]
  },
  {
   "cell_type": "markdown",
   "id": "2e3c5714",
   "metadata": {},
   "source": [
    "### Recieve chain function"
   ]
  },
  {
   "cell_type": "code",
   "execution_count": 3,
   "id": "99a60402",
   "metadata": {},
   "outputs": [],
   "source": [
    "def receive_chain(sig_rx, sps=SPS, n_rrc_taps=N_RRC_TAPS):\n",
    "    # Matched filter\n",
    "    sig_matched = pu.dsp.rrc_filter(sig_rx, N_RRC_TAPS, SPS)\n",
    "\n",
    "    # Timing recovery\n",
    "    stc = pu.timing_recovery.GardnerSymbolTimingCorrector()\n",
    "    symbols_sampled = stc.process(sig_matched)\n",
    "\n",
    "    # Carrier recovery\n",
    "    loop_bw = 1/20\n",
    "    costas = pu.carrier_recovery.CostasLoopQPSK(loop_bw)\n",
    "    sym_rot = np.empty_like(symbols_sampled, dtype=np.complex64)\n",
    "    costas.process(symbols_sampled, sym_rot)\n",
    "\n",
    "    # Demodulate\n",
    "    bits_rx = pu.modulation.demodulate_qpsk(pu.coding.diff_decode_psk_symbols(sym_rot))\n",
    "\n",
    "    return bits_rx"
   ]
  },
  {
   "cell_type": "markdown",
   "id": "2eaed638",
   "metadata": {},
   "source": [
    "### Scan over SNR"
   ]
  },
  {
   "cell_type": "code",
   "execution_count": null,
   "id": "c13a6048",
   "metadata": {},
   "outputs": [],
   "source": [
    "# BER vs SNR with CFO and STO\n",
    "\n",
    "snr_db_range = range(0, 31, 5)\n",
    "ber_values = []\n",
    "\n",
    "# Pass through channel with CFO and STO\n",
    "CFO_PCT = 0.03  # 3% CFO\n",
    "STO = 0.3  # fractional symbol offset\n",
    "sig_chan = pu.channel.apply_cfo(sig_tx, CFO_PCT)\n",
    "sig_chan = pu.channel.apply_sto(sig_chan, STO)\n",
    "\n",
    "# Scan over SNR values\n",
    "for SNR_DB in snr_db_range:\n",
    "    sig_chan_awgn = pu.channel.apply_awgn(sig_chan, SNR_DB)\n",
    "\n",
    "    bits_rx = receive_chain(sig_chan_awgn)\n",
    "    ber = np.sum(bits_tx != bits_rx) / N_BITS\n",
    "    ber_values.append(ber)\n",
    "\n",
    "# Plot results\n",
    "_ = vz.plot_signal(ber_values, x=snr_db_range,\n",
    "    title=\"QPSK BER vs SNR with CFO and STO\",\n",
    "    xlabel=\"SNR (dB)\",\n",
    "    ylabel=\"Bit Error Rate (BER, DB scale)\",\n",
    "    db=True,)\n",
    "\n",
    "\n"
   ]
  },
  {
   "cell_type": "markdown",
   "id": "2e851e0b",
   "metadata": {},
   "source": [
    "### Scan over CFO"
   ]
  },
  {
   "cell_type": "code",
   "execution_count": null,
   "id": "cd107d75",
   "metadata": {},
   "outputs": [],
   "source": []
  },
  {
   "cell_type": "markdown",
   "id": "af3f4deb",
   "metadata": {},
   "source": [
    "### Scan over STO"
   ]
  },
  {
   "cell_type": "code",
   "execution_count": null,
   "id": "b945017d",
   "metadata": {},
   "outputs": [],
   "source": []
  }
 ],
 "metadata": {
  "kernelspec": {
   "display_name": "dsp",
   "language": "python",
   "name": "python3"
  },
  "language_info": {
   "codemirror_mode": {
    "name": "ipython",
    "version": 3
   },
   "file_extension": ".py",
   "mimetype": "text/x-python",
   "name": "python",
   "nbconvert_exporter": "python",
   "pygments_lexer": "ipython3",
   "version": "3.11.13"
  }
 },
 "nbformat": 4,
 "nbformat_minor": 5
}
