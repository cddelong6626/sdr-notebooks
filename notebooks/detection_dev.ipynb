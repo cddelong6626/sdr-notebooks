{
 "cells": [
  {
   "cell_type": "code",
   "execution_count": 1,
   "id": "ec91fbc5",
   "metadata": {},
   "outputs": [
    {
     "ename": "ModuleNotFoundError",
     "evalue": "No module named 'utils'",
     "output_type": "error",
     "traceback": [
      "\u001b[31m---------------------------------------------------------------------------\u001b[39m",
      "\u001b[31mModuleNotFoundError\u001b[39m                       Traceback (most recent call last)",
      "\u001b[36mCell\u001b[39m\u001b[36m \u001b[39m\u001b[32mIn[1]\u001b[39m\u001b[32m, line 8\u001b[39m\n\u001b[32m      6\u001b[39m \u001b[38;5;28;01mfrom\u001b[39;00m\u001b[38;5;250m \u001b[39m\u001b[34;01mscipy\u001b[39;00m\u001b[38;5;250m \u001b[39m\u001b[38;5;28;01mimport\u001b[39;00m signal\n\u001b[32m      7\u001b[39m \u001b[38;5;28;01mimport\u001b[39;00m\u001b[38;5;250m \u001b[39m\u001b[34;01mnumpy\u001b[39;00m\u001b[38;5;250m \u001b[39m\u001b[38;5;28;01mas\u001b[39;00m\u001b[38;5;250m \u001b[39m\u001b[34;01mnp\u001b[39;00m\n\u001b[32m----> \u001b[39m\u001b[32m8\u001b[39m \u001b[38;5;28;01mfrom\u001b[39;00m\u001b[38;5;250m \u001b[39m\u001b[34;01mutils\u001b[39;00m\u001b[38;5;250m \u001b[39m\u001b[38;5;28;01mimport\u001b[39;00m *\n\u001b[32m     10\u001b[39m \u001b[38;5;66;03m# np.random.seed(0)\u001b[39;00m\n\u001b[32m     12\u001b[39m \u001b[33;03m\"\"\"Generate Frames\"\"\"\u001b[39;00m\n",
      "\u001b[31mModuleNotFoundError\u001b[39m: No module named 'utils'"
     ]
    }
   ],
   "source": [
    "\n",
    "#################################### DETECTION TESTING ####################################\n",
    "\n",
    "import sys\n",
    "sys.path.insert(0, '..')\n",
    "\n",
    "from scipy import signal\n",
    "import numpy as np\n",
    "from utils import *\n",
    "\n",
    "# np.random.seed(0)\n",
    "\n",
    "\"\"\"Generate Frames\"\"\"\n",
    "preamble = zadoff_chu(31)\n",
    "preamble = modulate_qpsk(pn(31*2))\n",
    "payload = modulate_qpsk(np.random.randint(2, size=10))\n",
    "len_payload = 5\n",
    "frames = to_frames(preamble, payload, len_payload)\n",
    "\n",
    "\"\"\"Apply channel\"\"\"\n",
    "sig = np.concatenate((np.zeros(10), frames[0], np.zeros(100)))\n",
    "# sig = apply_fto(frames, 200)\n",
    "# sig = np.concat(frames)\n",
    "# sig = apply_awgn(sig, 10)\n",
    "# sig = apply_sto(sig, 0.2)\n",
    "pct = 0.041\n",
    "# sig = apply_cfo(sig, pct)\n",
    "w_off = pct*2*np.pi/100\n",
    "sig = apply_cfo(sig, w_offset=w_off)\n",
    "\n",
    "\n",
    "\"\"\"Run frame detector\"\"\"\n",
    "t = 0.6 # threshold\n",
    "fd = AcquisitionFrameDetector(preamble, len(preamble), t)\n",
    "res = fd.process(sig)[0]\n",
    "first_detected_frame = res.frame\n",
    "plot_signal(first_detected_frame, sig[10:10+len(preamble)])\n",
    "print(f\"Real: {w_off}\\nDetector: {res.cfo}\")\n",
    "print(f\"CFO vector: {fd.cfo_vector}\")\n",
    "\n",
    "\n",
    "\"\"\"Plot results\"\"\"\n",
    "# t_vec = t * np.ones_like(sig)\n",
    "# plot_signal(cfd.debug[0], sig*0.3, t_vec, n_samps=len(sig))\n",
    "# plot_signal(cfd.debug[1], cfd.debug[2])\n",
    "\n",
    "# pdcc = PhaseDriftCFOCorrector(preamble, detection_threshold=t, detector_cls=AcquisitionFrameDetector)\n",
    "# pdcc.process(sig)\n",
    "# print(pdcc.get_estimate()/(2*np.pi))\n",
    "# plot_signal(pdcc.debug[0], preamble)\n",
    "\n",
    "\n",
    "\n",
    "# frames_out = np.concatenate(frames)\n",
    "# frames_in = np.concatenate(detected_frames)\n",
    "\n",
    "# plot_signal(frames_out, frames_in)\n",
    "\n",
    "\n",
    "\n",
    "\n"
   ]
  }
 ],
 "metadata": {
  "kernelspec": {
   "display_name": "dsp",
   "language": "python",
   "name": "python3"
  },
  "language_info": {
   "codemirror_mode": {
    "name": "ipython",
    "version": 3
   },
   "file_extension": ".py",
   "mimetype": "text/x-python",
   "name": "python",
   "nbconvert_exporter": "python",
   "pygments_lexer": "ipython3",
   "version": "3.11.13"
  }
 },
 "nbformat": 4,
 "nbformat_minor": 5
}
